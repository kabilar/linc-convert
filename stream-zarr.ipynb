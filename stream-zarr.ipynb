{
 "cells": [
  {
   "cell_type": "code",
   "execution_count": 1,
   "metadata": {},
   "outputs": [],
   "source": [
    "from fsspec import filesystem\n",
    "from dandi import dandiapi\n",
    "import zarr, s3fs"
   ]
  },
  {
   "cell_type": "code",
   "execution_count": 2,
   "metadata": {},
   "outputs": [],
   "source": [
    "dataset = \"000026\"\n",
    "# filepath=\"dataset_description.json\"\n",
    "# filepath = \"rawdata/sub-S45/micr/sub-S45_sample-hemi_PC.ome.zarr\"\n",
    "filepath=\"sub-I58/ses-Hip-CT/micr/sub-I58_sample-01_chunk-01_hipCT.ome.zarr\""
   ]
  },
  {
   "cell_type": "code",
   "execution_count": null,
   "metadata": {},
   "outputs": [],
   "source": [
    "# Ensure LINCBRAIN_API_KEY is set\n",
    "lincbrain_api_key=\"9a341b02e09fb5df0c7e827536af194ca9f2167f\""
   ]
  },
  {
   "cell_type": "code",
   "execution_count": null,
   "metadata": {},
   "outputs": [],
   "source": [
    "s3 = s3fs.S3FileSystem()\n",
    "\n",
    "store = s3fs.S3Map(root='linc-brain-mit-prod-us-east-2/zarr/5f2f36d2-b397-41f6-9d44-1d7fef453dc7', s3=s3, check=False)\n",
    "\n",
    "zarr_group = zarr.open_array(store, mode='r')\n",
    "\n",
    "# Now you can access the Zarr arrays like a local file\n",
    "# print(zarr_group.tree())\n",
    "# data_array = zarr_group['your_array_name']\n",
    "\n",
    "# For example, you can access a slice of the data\n",
    "# data_slice = data_array[:100, :100]\n",
    "# print(data_slice)"
   ]
  },
  {
   "cell_type": "code",
   "execution_count": 3,
   "metadata": {},
   "outputs": [
    {
     "name": "stdout",
     "output_type": "stream",
     "text": [
      "DANDI:000026/draft\n",
      "DANDI:assets/798b8b1b-c88d-42e8-91f8-247fd4282fe7\n",
      "https://api.dandiarchive.org/api/assets/798b8b1b-c88d-42e8-91f8-247fd4282fe7/download/\n",
      "Retrieved file url <Response [400]>\n"
     ]
    }
   ],
   "source": [
    "from dandi import dandiapi\n",
    "\n",
    "dataset = \"000026\"\n",
    "filepath = \"sub-I58/ses-Hip-CT/micr/sub-I58_sample-01_chunk-01_hipCT.ome.zarr\"\n",
    "dandi_api_key = <dandi_api_key>\n",
    "\n",
    "client = dandiapi.DandiAPIClient(api_url=\"https://api.dandiarchive.org/api\",token=dandi_api_key)\n",
    "\n",
    "my_dandiset = client.get_dandiset(dandiset_id=dataset, version_id=\"draft\")\n",
    "\n",
    "file = my_dandiset.get_asset_by_path(filepath)\n",
    "\n",
    "base_url = file.client.session.get(file.base_download_url)\n",
    "\n",
    "#, token=lincbrain_api_key)\n",
    "\n",
    "print(my_dandiset)\n",
    "\n",
    "print(file)\n",
    "print(file.base_download_url)\n",
    "\n",
    "# file_url = base_url.headers['Location']\n",
    "\n",
    "# for attr in dir(base_url):\n",
    "#     try:\n",
    "#         value = getattr(base_url, attr)\n",
    "#         print(f\"{attr}: {value}\")\n",
    "#     except Exception as e:\n",
    "#         print(f\"{attr}: {e}\")\n",
    "print(f\"Retrieved file url {base_url}\")"
   ]
  },
  {
   "cell_type": "code",
   "execution_count": null,
   "metadata": {},
   "outputs": [],
   "source": [
    "import s3fs\n",
    "import zarr\n",
    "\n",
    "# Replace with your actual credentials\n",
    "access_key = 'your-access-key-id'\n",
    "secret_key = 'your-secret-access-key'\n",
    "session_token = 'your-session-token'  # Optional, if using temporary credentials\n",
    "\n",
    "s3 = s3fs.S3FileSystem(key=access_key, secret=secret_key, token=session_token)\n",
    "\n",
    "store = s3fs.S3Map(root='linc-brain-mit-prod-us-east-2/zarr/5f2f36d2-b397-41f6-9d44-1d7fef453dc7', s3=s3, check=False)\n",
    "\n",
    "zarr_group = zarr.open_array(store, mode='r')"
   ]
  },
  {
   "cell_type": "code",
   "execution_count": null,
   "metadata": {},
   "outputs": [],
   "source": [
    "Return s3fs object"
   ]
  },
  {
   "cell_type": "code",
   "execution_count": null,
   "metadata": {},
   "outputs": [],
   "source": [
    "z=zarr.open(store, mode='r')"
   ]
  },
  {
   "cell_type": "code",
   "execution_count": null,
   "metadata": {},
   "outputs": [],
   "source": [
    "z.info"
   ]
  },
  {
   "cell_type": "code",
   "execution_count": null,
   "metadata": {},
   "outputs": [],
   "source": [
    "z[0,:]"
   ]
  }
 ],
 "metadata": {
  "kernelspec": {
   "display_name": "linc",
   "language": "python",
   "name": "python3"
  },
  "language_info": {
   "codemirror_mode": {
    "name": "ipython",
    "version": 3
   },
   "file_extension": ".py",
   "mimetype": "text/x-python",
   "name": "python",
   "nbconvert_exporter": "python",
   "pygments_lexer": "ipython3",
   "version": "3.10.13"
  }
 },
 "nbformat": 4,
 "nbformat_minor": 2
}
