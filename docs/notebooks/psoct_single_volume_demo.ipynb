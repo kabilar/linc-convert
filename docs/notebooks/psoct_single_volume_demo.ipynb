{
 "cells": [
  {
   "cell_type": "markdown",
   "id": "a33eafe37807f938",
   "metadata": {},
   "source": [
    "# LINC Convert — End‑to‑End Demo\n",
    "This notebook is a **guided tour** of the `linc-convert` CLI, showing how to:\n",
    "1) Inspect available **modalities** and **pipelines**  \n",
    "2) Run a conversion (PS‑OCT example)  \n",
    "3) Open the resulting **OME‑Zarr / NIfTI‑Zarr** with different backends  \n",
    "4) Compare against the original MATLAB array  \n",
    "5) Troubleshoot & tune performance\n",
    "\n",
    "> **Note:** This demo is built on your local environment. Ensure `linc-convert` is installed and on your `PATH`.\n"
   ]
  },
  {
   "cell_type": "markdown",
   "id": "edbfac216962e21",
   "metadata": {},
   "source": [
    "## 1) Inspect CLI & Modalities\n",
    "The top-level help lists **modalities** (data families) and global flags."
   ]
  },
  {
   "cell_type": "code",
   "execution_count": 1,
   "id": "868c5ad637afb7ea",
   "metadata": {
    "ExecuteTime": {
     "end_time": "2025-09-24T18:15:04.542214Z",
     "start_time": "2025-09-24T18:15:02.973360Z"
    }
   },
   "outputs": [
    {
     "name": "stdout",
     "output_type": "stream",
     "text": [
      "\u001B[1mUsage: linc-convert COMMAND\u001B[0m\n",
      "\n",
      "\u001B[39;49mCollection of conversion scripts for LINC datasets\u001B[0m\n",
      "\n",
      "╭─ Commands ───────────────────────────────────────────────────────────────────╮\n",
      "│ \u001B[36mdf       \u001B[0m\u001B[36m  \u001B[0m\u001B[39;49mConverters for Dark Field microscopy\u001B[0m                              │\n",
      "│ \u001B[36mlsm      \u001B[0m\u001B[36m  \u001B[0m\u001B[39;49mConverters for Light Sheet Microscopy\u001B[0m                             │\n",
      "│ \u001B[36mpsoct    \u001B[0m\u001B[36m  \u001B[0m\u001B[39;49mConverters for PS-OCT .mat files\u001B[0m                                  │\n",
      "│ \u001B[36mwk       \u001B[0m\u001B[36m  \u001B[0m\u001B[39;49mConverters for Webknossos annotation\u001B[0m                              │\n",
      "│ \u001B[36m--help -h\u001B[0m\u001B[36m  \u001B[0m\u001B[39;49mDisplay this message and exit.\u001B[0m                                    │\n",
      "│ \u001B[36m--version\u001B[0m\u001B[36m  \u001B[0m\u001B[39;49mDisplay application version.\u001B[0m                                      │\n",
      "╰──────────────────────────────────────────────────────────────────────────────╯\n",
      "\u001B[0m"
     ]
    }
   ],
   "source": [
    "!linc-convert --help"
   ]
  },
  {
   "cell_type": "markdown",
   "id": "ed5a6c0d5ab16e46",
   "metadata": {},
   "source": [
    "Each modality contains one or more **pipelines** (subcommands)."
   ]
  },
  {
   "cell_type": "markdown",
   "id": "ee7c827a091f1cf5",
   "metadata": {},
   "source": [
    "### PS‑OCT modality\n",
    "We’ll use PS‑OCT for this demo and preview the available pipelines."
   ]
  },
  {
   "cell_type": "code",
   "execution_count": 2,
   "id": "b2768ff5241c3a1f",
   "metadata": {
    "ExecuteTime": {
     "end_time": "2025-09-24T17:21:49.922929Z",
     "start_time": "2025-09-24T17:21:48.323782Z"
    }
   },
   "outputs": [
    {
     "name": "stdout",
     "output_type": "stream",
     "text": [
      "\u001B[1mUsage: linc-convert psoct COMMAND\u001B[0m\n",
      "\n",
      "\u001B[39;49mConverters for PS-OCT .mat files\u001B[0m\n",
      "\n",
      "╭─ Commands ───────────────────────────────────────────────────────────────────╮\n",
      "│ \u001B[36mmulti_slice  \u001B[0m\u001B[36m  \u001B[0m\u001B[39;49mMatlab to OME-Zarr.\u001B[0m                                           │\n",
      "│ \u001B[36msingle_volume\u001B[0m\u001B[36m  \u001B[0m\u001B[39;49mMatlab to OME-Zarr.\u001B[0m                                           │\n",
      "╰──────────────────────────────────────────────────────────────────────────────╯\n",
      "\u001B[0m"
     ]
    }
   ],
   "source": [
    "!linc-convert psoct --help"
   ]
  },
  {
   "cell_type": "markdown",
   "id": "d17652449c79de05",
   "metadata": {},
   "source": [
    "Look for pipelines like `multi_slice` and `single_volume`.\n",
    "For this demo, we will run **`single_volume`**"
   ]
  },
  {
   "cell_type": "markdown",
   "id": "8a80216601725f46",
   "metadata": {},
   "source": [
    "### Pipeline help: `single_volume`\n",
    "Skim the options to understand input, output, chunking, sharding and additional flags."
   ]
  },
  {
   "cell_type": "code",
   "execution_count": 3,
   "id": "7f6c4cc00a65dcd2",
   "metadata": {
    "ExecuteTime": {
     "end_time": "2025-09-23T19:35:39.728100Z",
     "start_time": "2025-09-23T19:35:38.336043Z"
    }
   },
   "outputs": [
    {
     "name": "stdout",
     "output_type": "stream",
     "text": [
      "\u001B[1mUsage: linc-convert psoct single_volume [ARGS] [OPTIONS]\u001B[0m\n",
      "\n",
      "Matlab to OME-Zarr.                                                             \n",
      "\n",
      "Convert OCT volumes in raw matlab files into a pyramidal OME-ZARR (or           \n",
      "NIfTI-Zarr) hierarchy.\n",
      "\n",
      "╭─ Parameters ─────────────────────────────────────────────────────────────────╮\n",
      "│ \u001B[1;31m*\u001B[0m\u001B[1;31m  \u001B[0m\u001B[36mINP --inp                   \u001B[0m\u001B[36m  \u001B[0m\u001B[32m  \u001B[0m\u001B[32m  \u001B[0mPath to the input mat file \u001B[2;31m[required]\u001B[0m   │\n",
      "│ \u001B[1;31m \u001B[0m\u001B[1;31m  \u001B[0m\u001B[36m--key                       \u001B[0m\u001B[36m  \u001B[0m\u001B[32m  \u001B[0m\u001B[32m  \u001B[0mKey of the array to be extracted,       │\n",
      "│ \u001B[1;31m   \u001B[0m\u001B[36m                              \u001B[0m\u001B[32m    \u001B[0mdefault to first key found              │\n",
      "│ \u001B[1;31m \u001B[0m\u001B[1;31m  \u001B[0m\u001B[36m--meta                      \u001B[0m\u001B[36m  \u001B[0m\u001B[32m  \u001B[0m\u001B[32m  \u001B[0mPath to the metadata file               │\n",
      "│ \u001B[1;31m \u001B[0m\u001B[1;31m  \u001B[0m\u001B[36m--orientation               \u001B[0m\u001B[36m  \u001B[0m\u001B[32m  \u001B[0m\u001B[32m  \u001B[0mOrientation of the volume \u001B[2m[default: \u001B[0m    │\n",
      "│ \u001B[1;31m   \u001B[0m\u001B[36m                              \u001B[0m\u001B[32m    \u001B[0m\u001B[2mRAS]\u001B[0m                                    │\n",
      "│ \u001B[1;31m \u001B[0m\u001B[1;31m  \u001B[0m\u001B[36m--center --no-center        \u001B[0m\u001B[36m  \u001B[0m\u001B[32m  \u001B[0m\u001B[32m  \u001B[0mSet RAS[0, 0, 0] at FOV center          │\n",
      "│ \u001B[1;31m   \u001B[0m\u001B[36m                              \u001B[0m\u001B[32m    \u001B[0m\u001B[2m[default: True]\u001B[0m                         │\n",
      "│ \u001B[1;31m \u001B[0m\u001B[1;31m  \u001B[0m\u001B[36m--out                       \u001B[0m\u001B[36m  \u001B[0m\u001B[32m-o\u001B[0m\u001B[32m  \u001B[0mOutput path                             │\n",
      "│ \u001B[1;31m \u001B[0m\u001B[1;31m  \u001B[0m\u001B[36m--zarr-version              \u001B[0m\u001B[36m  \u001B[0m\u001B[32m  \u001B[0m\u001B[32m  \u001B[0mZarr version to use. If \u001B[1;36;40mshard\u001B[0m is used,  │\n",
      "│ \u001B[1;31m   \u001B[0m\u001B[36m                              \u001B[0m\u001B[32m    \u001B[0m3 is required. \u001B[2m[choices: 2, 3]\u001B[0m          │\n",
      "│ \u001B[1;31m   \u001B[0m\u001B[36m                              \u001B[0m\u001B[32m    \u001B[0m\u001B[2m[default: 3]\u001B[0m                            │\n",
      "│ \u001B[1;31m \u001B[0m\u001B[1;31m  \u001B[0m\u001B[36m--chunk --empty-chunk       \u001B[0m\u001B[36m  \u001B[0m\u001B[32m  \u001B[0m\u001B[32m  \u001B[0mOutput chunk size. Behavior depends on  │\n",
      "│ \u001B[1;31m   \u001B[0m\u001B[36m                              \u001B[0m\u001B[32m    \u001B[0mthe number of values provided:          │\n",
      "│ \u001B[1;31m   \u001B[0m\u001B[36m                              \u001B[0m\u001B[32m    \u001B[0m                                        │\n",
      "│ \u001B[1;31m   \u001B[0m\u001B[36m                              \u001B[0m\u001B[32m    \u001B[0m\u001B[1;33m • \u001B[0mone:   used for all spatial          │\n",
      "│ \u001B[1;31m   \u001B[0m\u001B[36m                              \u001B[0m\u001B[32m    \u001B[0m\u001B[1;33m   \u001B[0mdimensions                           │\n",
      "│ \u001B[1;31m   \u001B[0m\u001B[36m                              \u001B[0m\u001B[32m    \u001B[0m\u001B[1;33m • \u001B[0mthree: used for spatial dimensions   │\n",
      "│ \u001B[1;31m   \u001B[0m\u001B[36m                              \u001B[0m\u001B[32m    \u001B[0m\u001B[1;33m   \u001B[0m([z, y, x])                          │\n",
      "│ \u001B[1;31m   \u001B[0m\u001B[36m                              \u001B[0m\u001B[32m    \u001B[0m\u001B[1;33m • \u001B[0mfour+:  used for channels and        │\n",
      "│ \u001B[1;31m   \u001B[0m\u001B[36m                              \u001B[0m\u001B[32m    \u001B[0m\u001B[1;33m   \u001B[0mspatial dimensions ([c, z, y, x]) If │\n",
      "│ \u001B[1;31m   \u001B[0m\u001B[36m                              \u001B[0m\u001B[32m    \u001B[0m\u001B[1;33m   \u001B[0m\u001B[1;36;40m\"auto\"\u001B[0m, find chunk size smaller than │\n",
      "│ \u001B[1;31m   \u001B[0m\u001B[36m                              \u001B[0m\u001B[32m    \u001B[0m\u001B[1;33m   \u001B[0m1 MB (TODO: not implemented)         │\n",
      "│ \u001B[1;31m   \u001B[0m\u001B[36m                              \u001B[0m\u001B[32m    \u001B[0m\u001B[2m[default: (128,)]\u001B[0m                       │\n",
      "│ \u001B[1;31m \u001B[0m\u001B[1;31m  \u001B[0m\u001B[36m--chunk-channels            \u001B[0m\u001B[36m  \u001B[0m\u001B[32m  \u001B[0m\u001B[32m  \u001B[0mPut channels in different chunk. If     │\n",
      "│ \u001B[1;31m   \u001B[0m\u001B[36m  --no-chunk-channels       \u001B[0m\u001B[36m  \u001B[0m\u001B[32m    \u001B[0mFalse, combine all channels in a single │\n",
      "│ \u001B[1;31m   \u001B[0m\u001B[36m                              \u001B[0m\u001B[32m    \u001B[0mchunk. \u001B[2m[default: False]\u001B[0m                 │\n",
      "│ \u001B[1;31m \u001B[0m\u001B[1;31m  \u001B[0m\u001B[36m--chunk-time --no-chunk-time\u001B[0m\u001B[36m  \u001B[0m\u001B[32m  \u001B[0m\u001B[32m  \u001B[0mPut timepoints in different chunk. If   │\n",
      "│ \u001B[1;31m   \u001B[0m\u001B[36m                              \u001B[0m\u001B[32m    \u001B[0mFalse, combine all timepoints in a      │\n",
      "│ \u001B[1;31m   \u001B[0m\u001B[36m                              \u001B[0m\u001B[32m    \u001B[0msingle chunk. \u001B[2m[default: True]\u001B[0m           │\n",
      "│ \u001B[1;31m \u001B[0m\u001B[1;31m  \u001B[0m\u001B[36m--shard --empty-shard       \u001B[0m\u001B[36m  \u001B[0m\u001B[32m  \u001B[0m\u001B[32m  \u001B[0mOutput shard size. Behavior same as     │\n",
      "│ \u001B[1;31m   \u001B[0m\u001B[36m                              \u001B[0m\u001B[32m    \u001B[0mchunk. If \u001B[1;36;40m\"auto\"\u001B[0m, find shard size that  │\n",
      "│ \u001B[1;31m   \u001B[0m\u001B[36m                              \u001B[0m\u001B[32m    \u001B[0mensures files smaller than 2TB,         │\n",
      "│ \u001B[1;31m   \u001B[0m\u001B[36m                              \u001B[0m\u001B[32m    \u001B[0massuming a compression ratio or 2.      │\n",
      "│ \u001B[1;31m   \u001B[0m\u001B[36m                              \u001B[0m\u001B[32m    \u001B[0m\u001B[2m[choices: auto]\u001B[0m                         │\n",
      "│ \u001B[1;31m \u001B[0m\u001B[1;31m  \u001B[0m\u001B[36m--shard-channels            \u001B[0m\u001B[36m  \u001B[0m\u001B[32m  \u001B[0m\u001B[32m  \u001B[0mPut channels in different shards. If    │\n",
      "│ \u001B[1;31m   \u001B[0m\u001B[36m  --no-shard-channels       \u001B[0m\u001B[36m  \u001B[0m\u001B[32m    \u001B[0mFalse, combine all channels in a single │\n",
      "│ \u001B[1;31m   \u001B[0m\u001B[36m                              \u001B[0m\u001B[32m    \u001B[0mshard. \u001B[2m[default: False]\u001B[0m                 │\n",
      "│ \u001B[1;31m \u001B[0m\u001B[1;31m  \u001B[0m\u001B[36m--shard-time --no-shard-time\u001B[0m\u001B[36m  \u001B[0m\u001B[32m  \u001B[0m\u001B[32m  \u001B[0mPut timepoints in different shards. If  │\n",
      "│ \u001B[1;31m   \u001B[0m\u001B[36m                              \u001B[0m\u001B[32m    \u001B[0mFalse, combine all timepoints in a      │\n",
      "│ \u001B[1;31m   \u001B[0m\u001B[36m                              \u001B[0m\u001B[32m    \u001B[0msingle shard. \u001B[2m[default: False]\u001B[0m          │\n",
      "│ \u001B[1;31m \u001B[0m\u001B[1;31m  \u001B[0m\u001B[36m--dimension-separator       \u001B[0m\u001B[36m  \u001B[0m\u001B[32m  \u001B[0m\u001B[32m  \u001B[0mThe separator placed between the        │\n",
      "│ \u001B[1;31m   \u001B[0m\u001B[36m                              \u001B[0m\u001B[32m    \u001B[0mdimensions of a chunk. \u001B[2m[choices: ., /]\u001B[0m  │\n",
      "│ \u001B[1;31m   \u001B[0m\u001B[36m                              \u001B[0m\u001B[32m    \u001B[0m\u001B[2m[default: /]\u001B[0m                            │\n",
      "│ \u001B[1;31m \u001B[0m\u001B[1;31m  \u001B[0m\u001B[36m--order                     \u001B[0m\u001B[36m  \u001B[0m\u001B[32m  \u001B[0m\u001B[32m  \u001B[0mMemory layout order for the data array. │\n",
      "│ \u001B[1;31m   \u001B[0m\u001B[36m                              \u001B[0m\u001B[32m    \u001B[0m\u001B[2m[choices: C, F]\u001B[0m \u001B[2m[default: C]\u001B[0m            │\n",
      "│ \u001B[1;31m \u001B[0m\u001B[1;31m  \u001B[0m\u001B[36m--compressor                \u001B[0m\u001B[36m  \u001B[0m\u001B[32m  \u001B[0m\u001B[32m  \u001B[0mCompression method \u001B[2m[choices: blosc, \u001B[0m    │\n",
      "│ \u001B[1;31m   \u001B[0m\u001B[36m                              \u001B[0m\u001B[32m    \u001B[0m\u001B[2mzlib, none]\u001B[0m \u001B[2m[default: blosc]\u001B[0m            │\n",
      "│ \u001B[1;31m \u001B[0m\u001B[1;31m  \u001B[0m\u001B[36m--compressor-opt            \u001B[0m\u001B[36m  \u001B[0m\u001B[32m  \u001B[0m\u001B[32m  \u001B[0mCompression options \u001B[2m[default: {}]\u001B[0m       │\n",
      "│ \u001B[1;31m \u001B[0m\u001B[1;31m  \u001B[0m\u001B[36m--no-time --no-no-time      \u001B[0m\u001B[36m  \u001B[0m\u001B[32m  \u001B[0m\u001B[32m  \u001B[0mIf True, indicates that the dataset     │\n",
      "│ \u001B[1;31m   \u001B[0m\u001B[36m                              \u001B[0m\u001B[32m    \u001B[0mdoes not have a time dimension. In such │\n",
      "│ \u001B[1;31m   \u001B[0m\u001B[36m                              \u001B[0m\u001B[32m    \u001B[0mcases, any fourth dimension is          │\n",
      "│ \u001B[1;31m   \u001B[0m\u001B[36m                              \u001B[0m\u001B[32m    \u001B[0minterpreted as the channel dimension.   │\n",
      "│ \u001B[1;31m   \u001B[0m\u001B[36m                              \u001B[0m\u001B[32m    \u001B[0m\u001B[2m[default: False]\u001B[0m                        │\n",
      "│ \u001B[1;31m \u001B[0m\u001B[1;31m  \u001B[0m\u001B[36m--no-pyramid-axis           \u001B[0m\u001B[36m  \u001B[0m\u001B[32m  \u001B[0m\u001B[32m  \u001B[0mSpatial axis that should not be         │\n",
      "│ \u001B[1;31m   \u001B[0m\u001B[36m                              \u001B[0m\u001B[32m    \u001B[0mdownsampled when generating pyramid     │\n",
      "│ \u001B[1;31m   \u001B[0m\u001B[36m                              \u001B[0m\u001B[32m    \u001B[0mlevels. If None, downsampling is        │\n",
      "│ \u001B[1;31m   \u001B[0m\u001B[36m                              \u001B[0m\u001B[32m    \u001B[0mapplied across all spatial axes.        │\n",
      "│ \u001B[1;31m   \u001B[0m\u001B[36m                              \u001B[0m\u001B[32m    \u001B[0m\u001B[2m[choices: x, y, z]\u001B[0m                      │\n",
      "│ \u001B[1;31m \u001B[0m\u001B[1;31m  \u001B[0m\u001B[36m--levels                    \u001B[0m\u001B[36m  \u001B[0m\u001B[32m  \u001B[0m\u001B[32m  \u001B[0mNumber of pyramid levels to generate.   │\n",
      "│ \u001B[1;31m   \u001B[0m\u001B[36m                              \u001B[0m\u001B[32m    \u001B[0mIf set to -1, all possible levels are   │\n",
      "│ \u001B[1;31m   \u001B[0m\u001B[36m                              \u001B[0m\u001B[32m    \u001B[0mgenerated until the smallest level fits │\n",
      "│ \u001B[1;31m   \u001B[0m\u001B[36m                              \u001B[0m\u001B[32m    \u001B[0minto one chunk. \u001B[2m[default: -1]\u001B[0m           │\n",
      "│ \u001B[1;31m \u001B[0m\u001B[1;31m  \u001B[0m\u001B[36m--ome-version               \u001B[0m\u001B[36m  \u001B[0m\u001B[32m  \u001B[0m\u001B[32m  \u001B[0mVersion of the OME-Zarr specification   │\n",
      "│ \u001B[1;31m   \u001B[0m\u001B[36m                              \u001B[0m\u001B[32m    \u001B[0mto use \u001B[2m[choices: 0.4, 0.5]\u001B[0m \u001B[2m[default: \u001B[0m   │\n",
      "│ \u001B[1;31m   \u001B[0m\u001B[36m                              \u001B[0m\u001B[32m    \u001B[0m\u001B[2m0.4]\u001B[0m                                    │\n",
      "│ \u001B[1;31m \u001B[0m\u001B[1;31m  \u001B[0m\u001B[36m--nii --no-nii              \u001B[0m\u001B[36m  \u001B[0m\u001B[32m  \u001B[0m\u001B[32m  \u001B[0mConvert the output to nifti-zarr        │\n",
      "│ \u001B[1;31m   \u001B[0m\u001B[36m                              \u001B[0m\u001B[32m    \u001B[0mformat. This is automatically enabled   │\n",
      "│ \u001B[1;31m   \u001B[0m\u001B[36m                              \u001B[0m\u001B[32m    \u001B[0mif the output path ends with            │\n",
      "│ \u001B[1;31m   \u001B[0m\u001B[36m                              \u001B[0m\u001B[32m    \u001B[0m\".nii.zarr\". \u001B[2m[default: False]\u001B[0m           │\n",
      "│ \u001B[1;31m \u001B[0m\u001B[1;31m  \u001B[0m\u001B[36m--max-load                  \u001B[0m\u001B[36m  \u001B[0m\u001B[32m  \u001B[0m\u001B[32m  \u001B[0mMaximum amount of data to load into     │\n",
      "│ \u001B[1;31m   \u001B[0m\u001B[36m                              \u001B[0m\u001B[32m    \u001B[0mmemory at once during processing.       │\n",
      "│ \u001B[1;31m   \u001B[0m\u001B[36m                              \u001B[0m\u001B[32m    \u001B[0m\u001B[2m[default: 512]\u001B[0m                          │\n",
      "│ \u001B[1;31m \u001B[0m\u001B[1;31m  \u001B[0m\u001B[36m--overwrite --no-overwrite  \u001B[0m\u001B[36m  \u001B[0m\u001B[32m  \u001B[0m\u001B[32m  \u001B[0mwhen no name is supplied and using      │\n",
      "│ \u001B[1;31m   \u001B[0m\u001B[36m                              \u001B[0m\u001B[32m    \u001B[0mdefault output name, if overwrite is    │\n",
      "│ \u001B[1;31m   \u001B[0m\u001B[36m                              \u001B[0m\u001B[32m    \u001B[0mset, it won't ask if overwrite          │\n",
      "│ \u001B[1;31m   \u001B[0m\u001B[36m                              \u001B[0m\u001B[32m    \u001B[0m\u001B[2m[default: True]\u001B[0m                         │\n",
      "│ \u001B[1;31m \u001B[0m\u001B[1;31m  \u001B[0m\u001B[36m--driver                    \u001B[0m\u001B[36m  \u001B[0m\u001B[32m  \u001B[0m\u001B[32m  \u001B[0mlibrary used for Zarr IO Operation      │\n",
      "│ \u001B[1;31m   \u001B[0m\u001B[36m                              \u001B[0m\u001B[32m    \u001B[0m\u001B[2m[choices: zarr-python, tensorstore, \u001B[0m    │\n",
      "│ \u001B[1;31m   \u001B[0m\u001B[36m                              \u001B[0m\u001B[32m    \u001B[0m\u001B[2mzarrita]\u001B[0m \u001B[2m[default: zarr-python]\u001B[0m         │\n",
      "│ \u001B[1;31m \u001B[0m\u001B[1;31m  \u001B[0m\u001B[36m--[KEYWORD]                 \u001B[0m\u001B[36m  \u001B[0m\u001B[32m  \u001B[0m\u001B[32m  \u001B[0m                                        │\n",
      "╰──────────────────────────────────────────────────────────────────────────────╯\n",
      "\u001B[0m"
     ]
    }
   ],
   "source": [
    "!linc-convert psoct single_volume --help"
   ]
  },
  {
   "cell_type": "markdown",
   "id": "f3a08cf274e85ea6",
   "metadata": {},
   "source": [
    "**Key flags (quick reference):**\n",
    "- `INP` / `--inp` (required): input `.mat` file\n",
    "- `--key`: MATLAB variable to extract (defaults to the first key)\n",
    "- `--out` / `-o`: output Zarr store path; `.nii.zarr` implies NIfTI‑Zarr layout\n",
    "- `--zarr-version {2,3}`: choose Zarr 2 or 3 (v3 required for sharding)\n",
    "- `--chunk`, `--shard`: control chunk/shard sizes (1 value → all dims; 3 values → `[z y x]`; 4+ → `[c z y x]`)\n",
    "- `--driver`: IO backend (`zarr-python`, `tensorstore`)"
   ]
  },
  {
   "cell_type": "markdown",
   "id": "8dbd8549",
   "metadata": {},
   "source": [
    "## 2) Convert a Single Volume (PS‑OCT)\n",
    "**Goal:** Convert a MATLAB volume to a pyramidal **NIfTI‑Zarr** (or OME‑Zarr) store.\n",
    "\n",
    "> The cell below **runs the conversion**. Adjust `INPUT_MAT`, `MAT_KEY`, and `OUTPUT_ZARR` at the top if needed.\n"
   ]
  },
  {
   "cell_type": "code",
   "execution_count": 4,
   "id": "738412e4bd6eb2b6",
   "metadata": {
    "ExecuteTime": {
     "end_time": "2025-09-23T21:11:56.492023Z",
     "start_time": "2025-09-23T21:11:49.261343Z"
    }
   },
   "outputs": [
    {
     "name": "stdout",
     "output_type": "stream",
     "text": [
      "2025-09-24 14:55:22,379 - linc_convert.modalities.psoct.single_volume - INFO - Processing chunk (0, 0, 0) of \n",
      "2025-09-24 14:55:25,268 - linc_convert.modalities.psoct.single_volume - INFO - Processing chunk (0, 1, 0) of \n",
      "2025-09-24 14:55:25,543 - linc_convert.modalities.psoct.single_volume - INFO - Processing chunk (0, 2, 0) of \n",
      "2025-09-24 14:55:26,680 - linc_convert.modalities.psoct.single_volume - INFO - Processing chunk (1, 0, 0) of \n",
      "2025-09-24 14:55:26,951 - linc_convert.modalities.psoct.single_volume - INFO - Processing chunk (1, 1, 0) of \n",
      "2025-09-24 14:55:27,229 - linc_convert.modalities.psoct.single_volume - INFO - Processing chunk (1, 2, 0) of \n",
      "2025-09-24 14:55:27,439 - linc_convert.modalities.psoct.single_volume - INFO - Processing chunk (2, 0, 0) of \n",
      "2025-09-24 14:55:28,669 - linc_convert.modalities.psoct.single_volume - INFO - Processing chunk (2, 1, 0) of \n",
      "2025-09-24 14:55:28,939 - linc_convert.modalities.psoct.single_volume - INFO - Processing chunk (2, 2, 0) of \n",
      "2025-09-24 14:55:29,134 - linc_convert.modalities.psoct.single_volume - INFO - Processing chunk (3, 0, 0) of \n",
      "2025-09-24 14:55:29,268 - linc_convert.modalities.psoct.single_volume - INFO - Processing chunk (3, 1, 0) of \n",
      "2025-09-24 14:55:29,401 - linc_convert.modalities.psoct.single_volume - INFO - Processing chunk (3, 2, 0) of \n",
      "  0%|                                                     | 0/4 [00:00<?, ?it/s]2025-09-24 14:55:29,510 - linc_convert.utils.io.zarr.abc - INFO - Compute level 1 with shape [855, 660, 1]\n",
      "[########################################] | 100% Completed | 1.50 sms\n",
      " 25%|███████████▎                                 | 1/4 [00:01<00:05,  1.74s/it]2025-09-24 14:55:31,245 - linc_convert.utils.io.zarr.abc - INFO - Compute level 2 with shape [427, 330, 1]\n",
      "[########################################] | 100% Completed | 401.06 ms\n",
      " 50%|██████████████████████▌                      | 2/4 [00:02<00:01,  1.01it/s]2025-09-24 14:55:31,709 - linc_convert.utils.io.zarr.abc - INFO - Compute level 3 with shape [213, 165, 1]\n",
      "[########################################] | 100% Completed | 200.56 ms\n",
      " 75%|█████████████████████████████████▊           | 3/4 [00:02<00:00,  1.56it/s]2025-09-24 14:55:31,935 - linc_convert.utils.io.zarr.abc - INFO - Compute level 4 with shape [106, 82, 1]\n",
      "[########################################] | 100% Completed | 100.36 ms\n",
      "100%|█████████████████████████████████████████████| 4/4 [00:02<00:00,  1.57it/s]\n",
      "2025-09-24 14:55:32,051 - linc_convert.modalities.psoct.single_volume - INFO - Write OME-Zarr multiscale metadata\n",
      "2025-09-24 14:55:32,070 - py.warnings - WARNING - /autofs/space/megaera_001/users/kchai/linc-convert/linc_convert/utils/io/zarr/drivers/zarr_python.py:194: FutureWarning: Pass shape=[348], dtype=u1 as keyword args. From version 3.1.0 passing these as positional arguments will result in an error\n",
      "  arr = self._zgroup.create_array(name, shape, dtype, **kwargs)\n",
      "\n",
      "\u001B[0m"
     ]
    }
   ],
   "source": [
    "!linc-convert psoct single_volume /scratch/sample_input.mat --key Psi_ObsLSQ --out /scratch/output.nii.zarr "
   ]
  },
  {
   "cell_type": "markdown",
   "id": "8f7df339",
   "metadata": {},
   "source": [
    "By default, zarr files are handled with zarr-python, we can try using tensorstore as well, which currently has much better writing performance with sharding."
   ]
  },
  {
   "cell_type": "code",
   "execution_count": 5,
   "id": "cca468d4eee583ed",
   "metadata": {},
   "outputs": [
    {
     "name": "stdout",
     "output_type": "stream",
     "text": [
      "2025-09-24 14:55:34,234 - linc_convert.modalities.psoct.single_volume - INFO - Processing chunk (0, 0, 0) of \n",
      "2025-09-24 14:55:34,321 - linc_convert.modalities.psoct.single_volume - INFO - Processing chunk (0, 1, 0) of \n",
      "2025-09-24 14:55:34,423 - linc_convert.modalities.psoct.single_volume - INFO - Processing chunk (0, 2, 0) of \n",
      "2025-09-24 14:55:34,498 - linc_convert.modalities.psoct.single_volume - INFO - Processing chunk (1, 0, 0) of \n",
      "2025-09-24 14:55:34,608 - linc_convert.modalities.psoct.single_volume - INFO - Processing chunk (1, 1, 0) of \n",
      "2025-09-24 14:55:34,686 - linc_convert.modalities.psoct.single_volume - INFO - Processing chunk (1, 2, 0) of \n",
      "2025-09-24 14:55:34,735 - linc_convert.modalities.psoct.single_volume - INFO - Processing chunk (2, 0, 0) of \n",
      "2025-09-24 14:55:34,824 - linc_convert.modalities.psoct.single_volume - INFO - Processing chunk (2, 1, 0) of \n",
      "2025-09-24 14:55:34,915 - linc_convert.modalities.psoct.single_volume - INFO - Processing chunk (2, 2, 0) of \n",
      "2025-09-24 14:55:34,987 - linc_convert.modalities.psoct.single_volume - INFO - Processing chunk (3, 0, 0) of \n",
      "2025-09-24 14:55:35,031 - linc_convert.modalities.psoct.single_volume - INFO - Processing chunk (3, 1, 0) of \n",
      "2025-09-24 14:55:35,095 - linc_convert.modalities.psoct.single_volume - INFO - Processing chunk (3, 2, 0) of \n",
      "  0%|                                                     | 0/4 [00:00<?, ?it/s]2025-09-24 14:55:35,147 - linc_convert.utils.io.zarr.abc - INFO - Compute level 1 with shape [855, 660, 1]\n",
      "[########################################] | 100% Completed | 300.80 ms\n",
      " 25%|███████████▎                                 | 1/4 [00:00<00:01,  2.48it/s]2025-09-24 14:55:35,551 - linc_convert.utils.io.zarr.abc - INFO - Compute level 2 with shape [427, 330, 1]\n",
      "[########################################] | 100% Completed | 100.70 ms\n",
      " 50%|██████████████████████▌                      | 2/4 [00:00<00:00,  4.08it/s]2025-09-24 14:55:35,686 - linc_convert.utils.io.zarr.abc - INFO - Compute level 3 with shape [213, 165, 1]\n",
      "[########################################] | 100% Completed | 100.52 ms\n",
      " 75%|█████████████████████████████████▊           | 3/4 [00:00<00:00,  5.35it/s]2025-09-24 14:55:35,803 - linc_convert.utils.io.zarr.abc - INFO - Compute level 4 with shape [106, 82, 1]\n",
      "[########################################] | 100% Completed | 100.65 ms\n",
      "100%|█████████████████████████████████████████████| 4/4 [00:00<00:00,  5.20it/s]\n",
      "2025-09-24 14:55:35,917 - linc_convert.modalities.psoct.single_volume - INFO - Write OME-Zarr multiscale metadata\n",
      "\u001B[0m"
     ]
    }
   ],
   "source": [
    "!linc-convert psoct single_volume /scratch/sample_input.mat --key Psi_ObsLSQ --out /scratch/output-ts.nii.zarr --zarr-version 3 --shard 1024 --driver tensorstore"
   ]
  },
  {
   "cell_type": "markdown",
   "id": "f8589b06",
   "metadata": {},
   "source": [
    "## 3) Compare with the original MATLAB array"
   ]
  },
  {
   "cell_type": "code",
   "execution_count": 6,
   "id": "0ff6276b",
   "metadata": {},
   "outputs": [
    {
     "name": "stdout",
     "output_type": "stream",
     "text": [
      "[info] MAT   : (1711, 1320, 2) float64\n",
      "[info] Zarr  : (1711, 1320, 2) float64\n",
      "[info] TStore: (1711, 1320, 2) float64\n",
      "[ok] MAT vs output.nii.zarr match within tolerances.\n",
      "[ok] MAT vs output-ts.nii.zarr match within tolerances.\n"
     ]
    }
   ],
   "source": [
    "import numpy as np\n",
    "import zarr\n",
    "import scipy.io as sio\n",
    "\n",
    "# Paths & keys\n",
    "INPUT_MAT = \"/scratch/sample_input.mat\"\n",
    "MAT_KEY = \"Psi_ObsLSQ\"\n",
    "OUT_ZARR_ZP = \"/scratch/output.nii.zarr\"\n",
    "OUT_ZARR_TS = \"/scratch/output-ts.nii.zarr\"\n",
    "\n",
    "# Load MATLAB source array\n",
    "mat = sio.loadmat(INPUT_MAT)\n",
    "a_mat = np.asarray(mat[MAT_KEY])\n",
    "\n",
    "# Load Zarr arrays (zarr-python), dataset \"0\"\n",
    "a_zp = np.asarray(zarr.open(OUT_ZARR_ZP, mode=\"r\")[\"0\"])\n",
    "a_ts = np.asarray(zarr.open(OUT_ZARR_TS, mode=\"r\")[\"0\"])\n",
    "\n",
    "# Optional: cast outputs to MATLAB dtype for strict comparison\n",
    "if a_zp.dtype != a_mat.dtype:\n",
    "    a_zp = a_zp.astype(a_mat.dtype, copy=False)\n",
    "if a_ts.dtype != a_mat.dtype:\n",
    "    a_ts = a_ts.astype(a_mat.dtype, copy=False)\n",
    "\n",
    "# Report shapes/dtypes\n",
    "print(\"[info] MAT   :\", a_mat.shape, a_mat.dtype)\n",
    "print(\"[info] Zarr  :\", a_zp.shape, a_zp.dtype)\n",
    "print(\"[info] TStore:\", a_ts.shape, a_ts.dtype)\n",
    "\n",
    "# Compare with NumPy testing (adjust tolerances if needed)\n",
    "rtol, atol = 1e-5, 1e-8\n",
    "\n",
    "np.testing.assert_allclose(a_mat, a_zp, rtol=rtol, atol=atol, err_msg=\"MAT vs output.nii.zarr differ\")\n",
    "print(\"[ok] MAT vs output.nii.zarr match within tolerances.\")\n",
    "\n",
    "np.testing.assert_allclose(a_mat, a_ts, rtol=rtol, atol=atol, err_msg=\"MAT vs output-ts.nii.zarr differ\")\n",
    "print(\"[ok] MAT vs output-ts.nii.zarr match within tolerances.\")"
   ]
  },
  {
   "cell_type": "markdown",
   "id": "4cf9aff3",
   "metadata": {},
   "source": [
    "## Appendix — CLI Cheatsheet\n",
    "```bash\n",
    "# List all modalities\n",
    "linc-convert --help\n",
    "\n",
    "# List pipelines for a modality\n",
    "linc-convert psoct --help\n",
    "\n",
    "# Show detailed help for a pipeline\n",
    "linc-convert psoct single_volume --help\n",
    "\n",
    "# Minimal conversion\n",
    "linc-convert psoct single_volume IN.mat -o OUT.zarr\n",
    "\n",
    "# NIfTI-Zarr + custom key\n",
    "linc-convert psoct single_volume IN.mat --key Psi_ObsLSQ -o OUT.nii.zarr\n",
    "\n",
    "# Zarr v3 with sharding\n",
    "linc-convert psoct single_volume IN.mat -o OUT.zarr --zarr-version 3 --shard 1024\n",
    "```\n"
   ]
  }
 ],
 "metadata": {
  "kernelspec": {
   "display_name": "linc-convert-dev",
   "language": "python",
   "name": "python3"
  },
  "language_info": {
   "codemirror_mode": {
    "name": "ipython",
    "version": 3
   },
   "file_extension": ".py",
   "mimetype": "text/x-python",
   "name": "python",
   "nbconvert_exporter": "python",
   "pygments_lexer": "ipython3",
   "version": "3.13.2"
  }
 },
 "nbformat": 4,
 "nbformat_minor": 5
}
