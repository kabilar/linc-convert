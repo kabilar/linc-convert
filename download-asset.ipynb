{
 "cells": [
  {
   "cell_type": "code",
   "execution_count": null,
   "metadata": {},
   "outputs": [],
   "source": [
    "dandi download --preserve-tree dandi://DANDI/000724@draft/derivatives/dwi/sub-I58/sub-I58_dwi_space-dwi_desc-preproc_dwi.bvals"
   ]
  }
 ],
 "metadata": {
  "language_info": {
   "name": "python"
  }
 },
 "nbformat": 4,
 "nbformat_minor": 2
}
